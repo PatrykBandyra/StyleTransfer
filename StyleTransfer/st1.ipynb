{
 "cells": [
  {
   "cell_type": "markdown",
   "source": [
    "### Based on: https://youtu.be/imX4kSKDY7s"
   ],
   "metadata": {
    "collapsed": false
   }
  },
  {
   "cell_type": "markdown",
   "source": [
    "### Imports"
   ],
   "metadata": {
    "collapsed": false
   }
  },
  {
   "cell_type": "code",
   "execution_count": 1,
   "metadata": {
    "collapsed": true
   },
   "outputs": [],
   "source": [
    "import torch\n",
    "import torch.nn as nn\n",
    "import torch.optim as optim\n",
    "from PIL import Image\n",
    "import torchvision.transforms as transforms\n",
    "import torchvision.models as models\n",
    "from torchvision.utils import save_image"
   ]
  },
  {
   "cell_type": "code",
   "execution_count": 2,
   "outputs": [
    {
     "data": {
      "text/plain": "Sequential(\n  (0): Conv2d(3, 64, kernel_size=(3, 3), stride=(1, 1), padding=(1, 1))\n  (1): ReLU(inplace=True)\n  (2): Conv2d(64, 64, kernel_size=(3, 3), stride=(1, 1), padding=(1, 1))\n  (3): ReLU(inplace=True)\n  (4): MaxPool2d(kernel_size=2, stride=2, padding=0, dilation=1, ceil_mode=False)\n  (5): Conv2d(64, 128, kernel_size=(3, 3), stride=(1, 1), padding=(1, 1))\n  (6): ReLU(inplace=True)\n  (7): Conv2d(128, 128, kernel_size=(3, 3), stride=(1, 1), padding=(1, 1))\n  (8): ReLU(inplace=True)\n  (9): MaxPool2d(kernel_size=2, stride=2, padding=0, dilation=1, ceil_mode=False)\n  (10): Conv2d(128, 256, kernel_size=(3, 3), stride=(1, 1), padding=(1, 1))\n  (11): ReLU(inplace=True)\n  (12): Conv2d(256, 256, kernel_size=(3, 3), stride=(1, 1), padding=(1, 1))\n  (13): ReLU(inplace=True)\n  (14): Conv2d(256, 256, kernel_size=(3, 3), stride=(1, 1), padding=(1, 1))\n  (15): ReLU(inplace=True)\n  (16): Conv2d(256, 256, kernel_size=(3, 3), stride=(1, 1), padding=(1, 1))\n  (17): ReLU(inplace=True)\n  (18): MaxPool2d(kernel_size=2, stride=2, padding=0, dilation=1, ceil_mode=False)\n  (19): Conv2d(256, 512, kernel_size=(3, 3), stride=(1, 1), padding=(1, 1))\n  (20): ReLU(inplace=True)\n  (21): Conv2d(512, 512, kernel_size=(3, 3), stride=(1, 1), padding=(1, 1))\n  (22): ReLU(inplace=True)\n  (23): Conv2d(512, 512, kernel_size=(3, 3), stride=(1, 1), padding=(1, 1))\n  (24): ReLU(inplace=True)\n  (25): Conv2d(512, 512, kernel_size=(3, 3), stride=(1, 1), padding=(1, 1))\n  (26): ReLU(inplace=True)\n  (27): MaxPool2d(kernel_size=2, stride=2, padding=0, dilation=1, ceil_mode=False)\n  (28): Conv2d(512, 512, kernel_size=(3, 3), stride=(1, 1), padding=(1, 1))\n  (29): ReLU(inplace=True)\n  (30): Conv2d(512, 512, kernel_size=(3, 3), stride=(1, 1), padding=(1, 1))\n  (31): ReLU(inplace=True)\n  (32): Conv2d(512, 512, kernel_size=(3, 3), stride=(1, 1), padding=(1, 1))\n  (33): ReLU(inplace=True)\n  (34): Conv2d(512, 512, kernel_size=(3, 3), stride=(1, 1), padding=(1, 1))\n  (35): ReLU(inplace=True)\n  (36): MaxPool2d(kernel_size=2, stride=2, padding=0, dilation=1, ceil_mode=False)\n)"
     },
     "execution_count": 2,
     "metadata": {},
     "output_type": "execute_result"
    }
   ],
   "source": [
    "model = models.vgg19(pretrained=True).features\n",
    "model"
   ],
   "metadata": {
    "collapsed": false,
    "pycharm": {
     "name": "#%%\n"
    }
   }
  },
  {
   "cell_type": "code",
   "execution_count": 4,
   "outputs": [],
   "source": [
    "class VGG(nn.Module):\n",
    "    def __init__(self):\n",
    "        super(VGG, self).__init__()\n",
    "\n",
    "        self.chosen_features = ['0', '5', '10', '19', '28']\n",
    "        self.model = models.vgg19(pretrained=True).features[:29]\n",
    "\n",
    "    def forward(self, x):\n",
    "        features = []\n",
    "\n",
    "        for layer_num, layer in enumerate(self.model):\n",
    "            x = layer(x)\n",
    "\n",
    "            if str(layer_num) in self.chosen_features:\n",
    "                features.append(x)\n",
    "\n",
    "        return features"
   ],
   "metadata": {
    "collapsed": false,
    "pycharm": {
     "name": "#%%\n"
    }
   }
  },
  {
   "cell_type": "code",
   "execution_count": 5,
   "outputs": [],
   "source": [
    "device = torch.device('cuda' if torch.cuda.is_available() else 'cpu')"
   ],
   "metadata": {
    "collapsed": false,
    "pycharm": {
     "name": "#%%\n"
    }
   }
  },
  {
   "cell_type": "code",
   "execution_count": 6,
   "outputs": [],
   "source": [
    "IMAGE_SIZE = 356"
   ],
   "metadata": {
    "collapsed": false,
    "pycharm": {
     "name": "#%%\n"
    }
   }
  },
  {
   "cell_type": "code",
   "execution_count": 7,
   "outputs": [],
   "source": [
    "loader = transforms.Compose(\n",
    "    [\n",
    "        transforms.Resize((IMAGE_SIZE, IMAGE_SIZE)),\n",
    "        transforms.ToTensor()\n",
    "    ]\n",
    ")"
   ],
   "metadata": {
    "collapsed": false,
    "pycharm": {
     "name": "#%%\n"
    }
   }
  },
  {
   "cell_type": "code",
   "execution_count": 8,
   "outputs": [],
   "source": [
    "def load_image(image_name):\n",
    "    image = Image.open(image_name)\n",
    "    image = loader(image).unsqueeze(0)\n",
    "    return image.to(device)"
   ],
   "metadata": {
    "collapsed": false,
    "pycharm": {
     "name": "#%%\n"
    }
   }
  },
  {
   "cell_type": "code",
   "execution_count": 9,
   "outputs": [],
   "source": [
    "original_image = load_image('img/original.png')\n",
    "style_image = load_image('img/style.png')"
   ],
   "metadata": {
    "collapsed": false,
    "pycharm": {
     "name": "#%%\n"
    }
   }
  },
  {
   "cell_type": "code",
   "execution_count": 20,
   "outputs": [
    {
     "data": {
      "text/plain": "tensor([[[[0.9569, 0.9569, 0.9569,  ..., 0.9686, 0.9686, 0.9647],\n          [0.9569, 0.9569, 0.9569,  ..., 0.9686, 0.9686, 0.9647],\n          [0.9569, 0.9529, 0.9569,  ..., 0.9686, 0.9725, 0.9686],\n          ...,\n          [0.9333, 0.9333, 0.9333,  ..., 0.9765, 0.9686, 0.9765],\n          [0.9333, 0.9333, 0.9333,  ..., 0.9725, 0.9765, 0.9804],\n          [0.9333, 0.9333, 0.9333,  ..., 0.9686, 0.9804, 0.9843]],\n\n         [[0.9255, 0.9255, 0.9216,  ..., 0.9255, 0.9255, 0.9294],\n          [0.9255, 0.9216, 0.9216,  ..., 0.9255, 0.9255, 0.9255],\n          [0.9255, 0.9216, 0.9255,  ..., 0.9255, 0.9216, 0.9255],\n          ...,\n          [0.8745, 0.8745, 0.8745,  ..., 0.9529, 0.9490, 0.9490],\n          [0.8745, 0.8745, 0.8745,  ..., 0.9451, 0.9490, 0.9490],\n          [0.8745, 0.8745, 0.8745,  ..., 0.9451, 0.9451, 0.9490]],\n\n         [[0.8745, 0.8745, 0.8745,  ..., 0.8784, 0.8784, 0.8784],\n          [0.8745, 0.8784, 0.8745,  ..., 0.8784, 0.8784, 0.8784],\n          [0.8745, 0.8706, 0.8745,  ..., 0.8784, 0.8784, 0.8784],\n          ...,\n          [0.8000, 0.8000, 0.8000,  ..., 0.9137, 0.9098, 0.9098],\n          [0.8000, 0.8000, 0.8000,  ..., 0.9137, 0.9098, 0.9098],\n          [0.8000, 0.8000, 0.7961,  ..., 0.9059, 0.9059, 0.9098]]]],\n       device='cuda:0', requires_grad=True)"
     },
     "execution_count": 20,
     "metadata": {},
     "output_type": "execute_result"
    }
   ],
   "source": [
    "generated = torch.clone(original_image)\n",
    "generated.requires_grad_(True)"
   ],
   "metadata": {
    "collapsed": false,
    "pycharm": {
     "name": "#%%\n"
    }
   }
  },
  {
   "cell_type": "code",
   "execution_count": 21,
   "outputs": [],
   "source": [
    "TOTAL_STEPS = 6000\n",
    "LR = 0.001\n",
    "ALPHA = 1\n",
    "BETA = 0.01"
   ],
   "metadata": {
    "collapsed": false,
    "pycharm": {
     "name": "#%%\n"
    }
   }
  },
  {
   "cell_type": "code",
   "execution_count": 22,
   "outputs": [],
   "source": [
    "optimizer = optim.Adam([generated], lr=LR)"
   ],
   "metadata": {
    "collapsed": false,
    "pycharm": {
     "name": "#%%\n"
    }
   }
  },
  {
   "cell_type": "code",
   "execution_count": 23,
   "outputs": [],
   "source": [
    "model = VGG().to(device).eval()"
   ],
   "metadata": {
    "collapsed": false,
    "pycharm": {
     "name": "#%%\n"
    }
   }
  },
  {
   "cell_type": "code",
   "execution_count": null,
   "outputs": [
    {
     "name": "stdout",
     "output_type": "stream",
     "text": [
      "Total loss: 3996007.25\n",
      "Total loss: 167721.734375\n",
      "Total loss: 83721.90625\n",
      "Total loss: 55577.49609375\n",
      "Total loss: 41924.4921875\n",
      "Total loss: 33845.6796875\n",
      "Total loss: 28376.2265625\n"
     ]
    }
   ],
   "source": [
    "for step in range(TOTAL_STEPS):\n",
    "    generated_features = model(generated)\n",
    "    original_features = model(original_image)\n",
    "    style_features = model(style_image)\n",
    "\n",
    "    style_loss = original_loss = 0\n",
    "\n",
    "    for g_feature, o_feature, s_feature in zip(generated_features, original_features, style_features):\n",
    "        batch_size, channel, height, width = g_feature.shape\n",
    "        original_loss += torch.mean((g_feature - o_feature) ** 2)\n",
    "\n",
    "        # Gram Matrix\n",
    "        G = g_feature.view(channel, height * width).mm(g_feature.view(channel, height * width).t())\n",
    "        A = s_feature.view(channel, height * width).mm(s_feature.view(channel, height * width).t())\n",
    "\n",
    "        style_loss += torch.mean((G - A) ** 2)\n",
    "\n",
    "    total_loss = ALPHA * original_loss + BETA * style_loss\n",
    "    optimizer.zero_grad()\n",
    "    total_loss.backward()\n",
    "    optimizer.step()\n",
    "\n",
    "    if step % 200 == 0:\n",
    "        print(f'Total loss: {total_loss}')\n",
    "        save_image(generated, f'results/generated_{step}.png')"
   ],
   "metadata": {
    "collapsed": false,
    "pycharm": {
     "name": "#%%\n",
     "is_executing": true
    }
   }
  }
 ],
 "metadata": {
  "kernelspec": {
   "display_name": "Python 3",
   "language": "python",
   "name": "python3"
  },
  "language_info": {
   "codemirror_mode": {
    "name": "ipython",
    "version": 2
   },
   "file_extension": ".py",
   "mimetype": "text/x-python",
   "name": "python",
   "nbconvert_exporter": "python",
   "pygments_lexer": "ipython2",
   "version": "2.7.6"
  }
 },
 "nbformat": 4,
 "nbformat_minor": 0
}